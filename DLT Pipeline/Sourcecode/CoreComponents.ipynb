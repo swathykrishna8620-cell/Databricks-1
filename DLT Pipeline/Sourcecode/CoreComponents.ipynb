{
 "cells": [
  {
   "cell_type": "code",
   "execution_count": 0,
   "metadata": {
    "application/vnd.databricks.v1+cell": {
     "cellMetadata": {
      "byteLimit": 2048000,
      "rowLimit": 10000
     },
     "inputWidgets": {},
     "nuid": "7a682f94-dccf-4d8b-8a02-5731304f36d3",
     "showTitle": false,
     "tableResultSettingsMap": {},
     "title": ""
    }
   },
   "outputs": [],
   "source": [
    "import dlt\n",
    "@dlt.table(\n",
    "    name=\"first_stream_table\"\n",
    ")\n",
    "def first_stream_table():\n",
    "    df=spark.readStream.table(\"swathy_catalog.swathy_schema.orders\")\n",
    "    return df\n",
    "\n",
    "@dlt.table(\n",
    "\tname=\"first_mat_view\"\n",
    ")\n",
    "def first_mat_view():\n",
    "    df=spark.read.table(\"swathy_catalog.swathy_schema.orders\")\n",
    "    return df\n",
    "\n",
    "@dlt.view(\n",
    "    name=\"first_batch_view\"\n",
    ")\n",
    "def first_batch_view():\n",
    "    df=spark.read.table(\"swathy_catalog.swathy_schema.orders\")\n",
    "    return df\n",
    "\n",
    "@dlt.view(\n",
    "    name=\"first_stream_view\"\n",
    ")\n",
    "def first_stream_view():\n",
    "    df=spark.readStream.table(\"swathy_catalog.swathy_schema.orders\")\n",
    "    return df\n",
    "\n"
   ]
  },
  {
   "cell_type": "code",
   "execution_count": 0,
   "metadata": {
    "application/vnd.databricks.v1+cell": {
     "cellMetadata": {},
     "inputWidgets": {},
     "nuid": "37fc3cab-9875-43e2-bb93-90d733d63ce6",
     "showTitle": false,
     "tableResultSettingsMap": {},
     "title": ""
    }
   },
   "outputs": [],
   "source": [
    "# load more data and check the table"
   ]
  }
 ],
 "metadata": {
  "application/vnd.databricks.v1+notebook": {
   "computePreferences": null,
   "dashboards": [],
   "environmentMetadata": {
    "base_environment": "",
    "environment_version": "3"
   },
   "inputWidgetPreferences": null,
   "language": "python",
   "notebookMetadata": {
    "pythonIndentUnit": 4
   },
   "notebookName": "CoreComponents",
   "widgets": {}
  },
  "language_info": {
   "name": "python"
  }
 },
 "nbformat": 4,
 "nbformat_minor": 0
}
