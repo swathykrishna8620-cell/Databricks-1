{
 "cells": [
  {
   "cell_type": "code",
   "execution_count": 0,
   "metadata": {
    "application/vnd.databricks.v1+cell": {
     "cellMetadata": {},
     "inputWidgets": {},
     "nuid": "80f388fc-71b7-4261-8225-3f9fb327b729",
     "showTitle": false,
     "tableResultSettingsMap": {},
     "title": ""
    }
   },
   "outputs": [],
   "source": [
    "# End to end pipeline\n",
    "\n",
    "import dlt\n",
    "import pyspark.sql.functions as F\n",
    "#staging area\n",
    "@dlt.table(\n",
    "  name=\"staging_orders\"\n",
    ")\n",
    "def staging_orders():\n",
    "  df= spark.readStream.table(\"kirti_catalog.kirti_db.orders\") \n",
    "  return df\n",
    "\n",
    "#creating tranformed table\n",
    "@dlt.table(\n",
    "  name=\"transformed_orders\"\n",
    ")\n",
    "def transformed_orders():\n",
    "    df=spark.readStream.table(\"staging_orders\")\n",
    "    df=df.withColumn(\"order_status\",lower(col(\"order_status\")))\n",
    "    return df\n",
    "  \n",
    "#aggregated table\n",
    "@dlt.table(\n",
    "  name=\"aggregated_orders\"\n",
    ")\n",
    "def aggregated_orders():\n",
    "    df=spark.readStream.table(\"transformed_orders\")\n",
    "    df=df.groupBy(\"order_status\").count()\n",
    "    return df"
   ]
  }
 ],
 "metadata": {
  "application/vnd.databricks.v1+notebook": {
   "computePreferences": null,
   "dashboards": [],
   "environmentMetadata": {
    "base_environment": "",
    "environment_version": "3"
   },
   "inputWidgetPreferences": null,
   "language": "python",
   "notebookMetadata": {
    "pythonIndentUnit": 4
   },
   "notebookName": "DLT transformation",
   "widgets": {}
  },
  "language_info": {
   "name": "python"
  }
 },
 "nbformat": 4,
 "nbformat_minor": 0
}
