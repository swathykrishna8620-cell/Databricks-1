{
 "cells": [
  {
   "cell_type": "code",
   "execution_count": 0,
   "metadata": {
    "application/vnd.databricks.v1+cell": {
     "cellMetadata": {},
     "inputWidgets": {},
     "nuid": "9667be64-b5a8-46c7-8c6f-cbf62bdd271c",
     "showTitle": false,
     "tableResultSettingsMap": {},
     "title": ""
    }
   },
   "outputs": [],
   "source": [
    "import dlt \n",
    "from pyspark.sql.functions import * \n",
    "\n",
    "\n",
    "# GOLD STREAMING VIEW ON TOP OF SILVER VIEW (NOT SILVER TABLE)\n",
    "@dlt.view(\n",
    "    name = 'sales_gold_view'\n",
    ")\n",
    "def sales_gold_view():\n",
    "    df = spark.readStream.table(\"sales_silver\")\n",
    "    return df\n",
    "\n",
    "\n",
    "# CREATING FACT TABLE (WITH AUTO CDC)\n",
    "dlt.create_streaming_table(name=\"fact_sales\")\n",
    "\n",
    "dlt.create_auto_cdc_flow(\n",
    "    target = 'fact_sales',\n",
    "    source = 'sales_gold_view',\n",
    "    keys = ['sales_id'],\n",
    "    sequence_by = col('processDate'),\n",
    "    stored_as_scd_type = 1\n",
    ")"
   ]
  },
  {
   "cell_type": "code",
   "execution_count": 0,
   "metadata": {
    "application/vnd.databricks.v1+cell": {
     "cellMetadata": {},
     "inputWidgets": {},
     "nuid": "0bbb2d92-e94b-40c7-bea8-1b2277fc81a4",
     "showTitle": false,
     "tableResultSettingsMap": {},
     "title": ""
    }
   },
   "outputs": [],
   "source": [
    "import dlt \n",
    "from pyspark.sql.functions import * \n",
    "\n",
    "\n",
    "# GOLD STREAMING VIEW ON TOP OF SILVER VIEW (NOT SILVER TABLE)\n",
    "@dlt.view(\n",
    "    name = 'stores_gold_view'\n",
    ")\n",
    "def stores_gold_view():\n",
    "    df = spark.readStream.table(\"stores_silver\")\n",
    "    return df\n",
    "\n",
    "\n",
    "# CREATING DIM SCD TYPE-2 TABLE (WITH AUTO CDC)\n",
    "dlt.create_streaming_table(name=\"dim_stores\")\n",
    "\n",
    "dlt.create_auto_cdc_flow(\n",
    "    target = 'dim_stores',\n",
    "    source = 'stores_gold_view',\n",
    "    keys = ['store_id'],\n",
    "    sequence_by = col('processDate'),\n",
    "    stored_as_scd_type = 2,\n",
    "    except_column_list=['processDate']\n",
    ")"
   ]
  },
  {
   "cell_type": "code",
   "execution_count": 0,
   "metadata": {
    "application/vnd.databricks.v1+cell": {
     "cellMetadata": {},
     "inputWidgets": {},
     "nuid": "030be46b-0ccc-42b3-bc9d-43864ffd6a91",
     "showTitle": false,
     "tableResultSettingsMap": {},
     "title": ""
    }
   },
   "outputs": [],
   "source": [
    "import dlt \n",
    "from pyspark.sql.functions import * \n",
    "\n",
    "\n",
    "# GOLD STREAMING VIEW ON TOP OF SILVER VIEW (NOT SILVER TABLE)\n",
    "@dlt.view(\n",
    "    name = 'products_gold_view'\n",
    ")\n",
    "def products_gold_view():\n",
    "    df = spark.readStream.table(\"products_silver\")\n",
    "    return df\n",
    "\n",
    "\n",
    "# CREATING DIM SCD TYPE-2 TABLE (WITH AUTO CDC)\n",
    "dlt.create_streaming_table(name=\"dim_products\")\n",
    "\n",
    "dlt.create_auto_cdc_flow(\n",
    "    target = 'dim_products',\n",
    "    source = 'products_gold_view',\n",
    "    keys = ['product_id'],\n",
    "    sequence_by = col('processDate'),\n",
    "    stored_as_scd_type = 2,\n",
    "    except_column_list=['processDate']\n",
    ")\n"
   ]
  },
  {
   "cell_type": "code",
   "execution_count": 0,
   "metadata": {
    "application/vnd.databricks.v1+cell": {
     "cellMetadata": {},
     "inputWidgets": {},
     "nuid": "1d84e29a-70be-4cfa-9639-6af600310e51",
     "showTitle": false,
     "tableResultSettingsMap": {},
     "title": ""
    }
   },
   "outputs": [],
   "source": [
    "import dlt \n",
    "from pyspark.sql.functions import * \n",
    "\n",
    "\n",
    "# GOLD STREAMING VIEW ON TOP OF SILVER VIEW (NOT SILVER TABLE)\n",
    "@dlt.view(\n",
    "    name = 'customers_gold_view'\n",
    ")\n",
    "def customers_gold_view():\n",
    "    df = spark.readStream.table(\"customers_silver\")\n",
    "    return df\n",
    "\n",
    "\n",
    "# CREATING DIM SCD TYPE-2 TABLE (WITH AUTO CDC)\n",
    "dlt.create_streaming_table(name=\"dim_customers\")\n",
    "\n",
    "dlt.create_auto_cdc_flow(\n",
    "    target = 'dim_customers',\n",
    "    source = 'customers_gold_view',\n",
    "    keys = ['customer_id'],\n",
    "    sequence_by = col('processDate'),\n",
    "    stored_as_scd_type = 2,\n",
    "    except_column_list=['processDate']\n",
    ")\n"
   ]
  }
 ],
 "metadata": {
  "application/vnd.databricks.v1+notebook": {
   "computePreferences": null,
   "dashboards": [],
   "environmentMetadata": {
    "base_environment": "",
    "environment_version": "3"
   },
   "inputWidgetPreferences": null,
   "language": "python",
   "notebookMetadata": {
    "pythonIndentUnit": 4
   },
   "notebookName": "Gold_aggregated_data",
   "widgets": {}
  },
  "language_info": {
   "name": "python"
  }
 },
 "nbformat": 4,
 "nbformat_minor": 0
}
