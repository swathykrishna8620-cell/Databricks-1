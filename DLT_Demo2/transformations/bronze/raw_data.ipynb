{
 "cells": [
  {
   "cell_type": "code",
   "execution_count": 0,
   "metadata": {
    "application/vnd.databricks.v1+cell": {
     "cellMetadata": {},
     "inputWidgets": {},
     "nuid": "84e56c10-f2ad-49d6-93e4-ed4541a6de02",
     "showTitle": false,
     "tableResultSettingsMap": {},
     "title": ""
    }
   },
   "outputs": [],
   "source": [
    "import dlt \n",
    "\n",
    "# INGESTING SALES DATA \n",
    "@dlt.table(\n",
    "    name = 'sales_bronze'\n",
    ")\n",
    "def sales_bronze():\n",
    "    df = spark.readStream.format(\"cloudFiles\")\\\n",
    "                .option(\"cloudFiles.format\", \"csv\")\\\n",
    "                .load(\"/Volumes/swathy_catalog/swathy_schema/bronze/facts/\")\n",
    "    return df\n",
    "\n",
    "# INGESTING STORES DATA \n",
    "@dlt.table(\n",
    "    name = 'stores_bronze'\n",
    ")\n",
    "def stores_bronze():\n",
    "    df = spark.readStream.format(\"cloudFiles\")\\\n",
    "                .option(\"cloudFiles.format\", \"csv\")\\\n",
    "                .load(\"/Volumes/swathy_catalog/swathy_schema/bronze/stores/\")\n",
    "    return df\n",
    "\n",
    "\n",
    "# INGESTING PRODUCTS DATA \n",
    "@dlt.table(\n",
    "    name = 'products_bronze'\n",
    ")\n",
    "def products_bronze():\n",
    "    df = spark.readStream.format(\"cloudFiles\")\\\n",
    "                .option(\"cloudFiles.format\", \"csv\")\\\n",
    "                .load(\"/Volumes/swathy_catalog/swathy_schema/bronze/products//\")\n",
    "    return df\n",
    "\n",
    "\n",
    "# INGESTING  DATA \n",
    "@dlt.table(\n",
    "    name = 'customers_bronze'\n",
    ")\n",
    "def customers_bronze():\n",
    "    df = spark.readStream.format(\"cloudFiles\")\\\n",
    "                .option(\"cloudFiles.format\", \"csv\")\\\n",
    "                .load(\"/Volumes/swathy_catalog/swathy_schema/bronze/customers/\")\n",
    "    return df\n",
    "\n"
   ]
  }
 ],
 "metadata": {
  "application/vnd.databricks.v1+notebook": {
   "computePreferences": null,
   "dashboards": [],
   "environmentMetadata": {
    "base_environment": "",
    "environment_version": "3"
   },
   "inputWidgetPreferences": null,
   "language": "python",
   "notebookMetadata": {
    "pythonIndentUnit": 4
   },
   "notebookName": "raw_data",
   "widgets": {}
  },
  "language_info": {
   "name": "python"
  }
 },
 "nbformat": 4,
 "nbformat_minor": 0
}
